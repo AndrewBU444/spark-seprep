{
 "cells": [
  {
   "cell_type": "code",
   "execution_count": 48,
   "id": "8a658dd7-6a6b-49f8-afaa-e772271d8f72",
   "metadata": {},
   "outputs": [
    {
     "name": "stdout",
     "output_type": "stream",
     "text": [
      "Requirement already satisfied: ucimlrepo in /Library/Frameworks/Python.framework/Versions/3.13/lib/python3.13/site-packages (0.0.7)\n",
      "Requirement already satisfied: pandas>=1.0.0 in /Library/Frameworks/Python.framework/Versions/3.13/lib/python3.13/site-packages (from ucimlrepo) (2.2.3)\n",
      "Requirement already satisfied: certifi>=2020.12.5 in /Library/Frameworks/Python.framework/Versions/3.13/lib/python3.13/site-packages (from ucimlrepo) (2024.8.30)\n",
      "Requirement already satisfied: numpy>=1.26.0 in /Library/Frameworks/Python.framework/Versions/3.13/lib/python3.13/site-packages (from pandas>=1.0.0->ucimlrepo) (2.1.2)\n",
      "Requirement already satisfied: python-dateutil>=2.8.2 in /Library/Frameworks/Python.framework/Versions/3.13/lib/python3.13/site-packages (from pandas>=1.0.0->ucimlrepo) (2.9.0.post0)\n",
      "Requirement already satisfied: pytz>=2020.1 in /Library/Frameworks/Python.framework/Versions/3.13/lib/python3.13/site-packages (from pandas>=1.0.0->ucimlrepo) (2024.2)\n",
      "Requirement already satisfied: tzdata>=2022.7 in /Library/Frameworks/Python.framework/Versions/3.13/lib/python3.13/site-packages (from pandas>=1.0.0->ucimlrepo) (2024.2)\n",
      "Requirement already satisfied: six>=1.5 in /Library/Frameworks/Python.framework/Versions/3.13/lib/python3.13/site-packages (from python-dateutil>=2.8.2->pandas>=1.0.0->ucimlrepo) (1.16.0)\n",
      "\n",
      "\u001b[1m[\u001b[0m\u001b[34;49mnotice\u001b[0m\u001b[1;39;49m]\u001b[0m\u001b[39;49m A new release of pip is available: \u001b[0m\u001b[31;49m24.2\u001b[0m\u001b[39;49m -> \u001b[0m\u001b[32;49m24.3.1\u001b[0m\n",
      "\u001b[1m[\u001b[0m\u001b[34;49mnotice\u001b[0m\u001b[1;39;49m]\u001b[0m\u001b[39;49m To update, run: \u001b[0m\u001b[32;49mpip3 install --upgrade pip\u001b[0m\n",
      "Note: you may need to restart the kernel to use updated packages.\n"
     ]
    }
   ],
   "source": [
    "pip install ucimlrepo\n"
   ]
  },
  {
   "cell_type": "code",
   "execution_count": 50,
   "id": "575681dc-e798-4f16-b6e5-bc4f699ce37a",
   "metadata": {},
   "outputs": [],
   "source": [
    "#from ucimlrepo import fetch_ucirepo \n",
    "  \n",
    "# fetch dataset \n",
    "#student_performance = fetch_ucirepo(id=320) \n",
    "  \n",
    "# data (as pandas dataframes) \n",
    "#X = student_performance.data.features \n",
    "#y = student_performance.data.targets \n",
    "  \n",
    "# metadata \n",
    "#print(student_performance.metadata) \n",
    "  \n",
    "# variable information \n",
    "#print(student_performance.variables) \n"
   ]
  },
  {
   "cell_type": "code",
   "execution_count": null,
   "id": "59d9538a-7613-4614-9d98-6196e5ee7cfb",
   "metadata": {},
   "outputs": [],
   "source": [
    "!pip3 install seaborn"
   ]
  },
  {
   "cell_type": "code",
   "execution_count": null,
   "id": "91eeb4d1-b6b2-46df-bc37-ade5c0158840",
   "metadata": {},
   "outputs": [],
   "source": [
    "!pip3 install matplotlib\n",
    "\n"
   ]
  },
  {
   "cell_type": "code",
   "execution_count": null,
   "id": "e040b55a-ba18-419c-a96e-5f1d27a86a9b",
   "metadata": {},
   "outputs": [],
   "source": [
    "import pandas as pd\n",
    "import numpy as np\n",
    "import matplotlib.pyplot as plt\n",
    "import seaborn as sns\n"
   ]
  },
  {
   "cell_type": "code",
   "execution_count": null,
   "id": "eca4d6b3-d73e-426a-9b66-696709ad7708",
   "metadata": {},
   "outputs": [],
   "source": [
    "# Importing the dataset\n",
    "# Replace 'your_dataset_url' with the actual URL or file path\n",
    "url = 'https://archive.ics.uci.edu/ml/machine-learning-databases/00320/student-mat.csv'\n",
    "df = pd.read_csv(url, sep=';')\n",
    "\n",
    "print(df.head())"
   ]
  },
  {
   "cell_type": "code",
   "execution_count": null,
   "id": "62e18976-a3b0-4b02-ae5f-779d0178b9f8",
   "metadata": {},
   "outputs": [],
   "source": [
    "df.info()\n",
    "df.describe()"
   ]
  },
  {
   "cell_type": "code",
   "execution_count": null,
   "id": "e197b7b4-592b-419f-9a66-9afc8019ecea",
   "metadata": {},
   "outputs": [],
   "source": [
    "plt.figure(figsize=(10, 6))\n",
    "plt.scatter(df(['health']), df(['G3']))\n",
    "plt.xlabel(\"Health (1 = Very Bad, 5 = Very Good)\")\n",
    "plt.ylabel(\"Final Grade (G3)\")\n",
    "plt.title(\"Relationship Between Health and Final Grade (G3)\")\n",
    "plt.show()"
   ]
  },
  {
   "cell_type": "code",
   "execution_count": null,
   "id": "171f97fb-368f-4914-aa85-cfd696b5a653",
   "metadata": {},
   "outputs": [],
   "source": [
    "#Hypothesis 1: Health and final grade have a direct correlation. \n",
    "\n",
    "#Hypothesis 2: "
   ]
  }
 ],
 "metadata": {
  "kernelspec": {
   "display_name": "Python 3 (ipykernel)",
   "language": "python",
   "name": "python3"
  },
  "language_info": {
   "codemirror_mode": {
    "name": "ipython",
    "version": 3
   },
   "file_extension": ".py",
   "mimetype": "text/x-python",
   "name": "python",
   "nbconvert_exporter": "python",
   "pygments_lexer": "ipython3",
   "version": "3.13.0"
  }
 },
 "nbformat": 4,
 "nbformat_minor": 5
}
